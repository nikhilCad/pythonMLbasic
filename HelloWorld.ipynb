{
 "cells": [
  {
   "cell_type": "code",
   "execution_count": 10,
   "id": "71e6bd08",
   "metadata": {},
   "outputs": [
    {
     "name": "stderr",
     "output_type": "stream",
     "text": [
      "C:\\Users\\HP\\AppData\\Local\\Programs\\Python\\Python39\\lib\\site-packages\\sklearn\\base.py:450: UserWarning: X does not have valid feature names, but DecisionTreeClassifier was fitted with feature names\n",
      "  warnings.warn(\n"
     ]
    },
    {
     "data": {
      "text/plain": [
       "array(['HipHop', 'Dance'], dtype=object)"
      ]
     },
     "execution_count": 10,
     "metadata": {},
     "output_type": "execute_result"
    }
   ],
   "source": [
    "#https://www.youtube.com/watch?v=7eh4d6sabA0&t=536s\n",
    "#To predict Music Genre for any age(not in this csv) by given age, from this data\n",
    "\n",
    "import pandas as pd\n",
    "from sklearn.tree import DecisionTreeClassifier #Algorithm for machine learning, most popular library\n",
    "\n",
    "music_data = pd.read_csv(\"music.csv\")\n",
    "X = music_data.drop(columns=[\"genre\"])#our input or Data Set\n",
    "y = music_data[\"genre\"]#Output Data Set\n",
    "\n",
    "#Decision Tree algorithm for machine learning\n",
    "model = DecisionTreeClassifier()\n",
    "model.fit(X,y)\n",
    "\n",
    "#Predict output(Music Genre)(y) for 21 year old man(X), Note that [21,1] is NOT in table\n",
    "predictions =model.predict([[21,1],[22,0]])\n",
    "predictions\n",
    "\n",
    "#Look at below code to check model accuracy using datas in model itself and no external data like [21,1]"
   ]
  },
  {
   "cell_type": "code",
   "execution_count": 13,
   "id": "d8a8dad1",
   "metadata": {},
   "outputs": [
    {
     "data": {
      "text/plain": [
       "0.75"
      ]
     },
     "execution_count": 13,
     "metadata": {},
     "output_type": "execute_result"
    }
   ],
   "source": [
    "import pandas as pd\n",
    "from sklearn.tree import DecisionTreeClassifier #Algorithm for machine learning, most popular library\n",
    "from sklearn.model_selection import train_test_split#For splitting it into train and test datas\n",
    "from sklearn.metrics import accuracy_score#To check accuracy of model\n",
    "\n",
    "music_data = pd.read_csv(\"music.csv\")\n",
    "X = music_data.drop(columns=[\"genre\"])#our input or Data Set\n",
    "y = music_data[\"genre\"]#Output Data Set\n",
    "\n",
    "# 20% of data for testing, rest for training model\n",
    "X_train,X_test,y_train,y_test = train_test_split(X,y, test_size=0.2)\n",
    "\n",
    "#Decision Tree algorithm for machine learning\n",
    "model = DecisionTreeClassifier()\n",
    "model.fit(X_train,y_train)#train this model using training inputs(80% of inputs)\n",
    "\n",
    "#Predict output(Music Genre)(y) for testing data(X), that is 20% of our data, then check if its correct or not\n",
    "predictions =model.predict(X_test)\n",
    "\n",
    "#Compare the output our model gives with actual data in music.csv and calculate model's accuracy\n",
    "score = accuracy_score(y_test, predictions)\n",
    "score#Different on each run of program as train_test_split randomly picks data\n",
    "#Larger the training set size better the result (test_size=0.2 should be low but not too low)\n",
    "\n",
    "#Note : Keyboard shortcut for running a block is Ctrl + Enter when the block is selected"
   ]
  },
  {
   "cell_type": "code",
   "execution_count": 16,
   "id": "e21ba7f6",
   "metadata": {},
   "outputs": [
    {
     "name": "stderr",
     "output_type": "stream",
     "text": [
      "C:\\Users\\HP\\AppData\\Local\\Programs\\Python\\Python39\\lib\\site-packages\\sklearn\\base.py:450: UserWarning: X does not have valid feature names, but DecisionTreeClassifier was fitted with feature names\n",
      "  warnings.warn(\n"
     ]
    },
    {
     "data": {
      "text/plain": [
       "array(['HipHop'], dtype=object)"
      ]
     },
     "execution_count": 16,
     "metadata": {},
     "output_type": "execute_result"
    }
   ],
   "source": [
    "import pandas as pd\n",
    "from sklearn.tree import DecisionTreeClassifier #Algorithm for machine learning, most popular library\n",
    "import joblib #To save model so we dont train it each time\n",
    "\n",
    "#We first run the joblib.dump line with these below code uncommented, then comment them as we already have their output\n",
    "#After saving we just load model using joblib.load line\n",
    "#\n",
    "# music_data = pd.read_csv(\"music.csv\")\n",
    "# X = music_data.drop(columns=[\"genre\"])#our input or Data Set\n",
    "# y = music_data[\"genre\"]#Output Data Set\n",
    "\n",
    "# #Decision Tree algorithm for machine learning\n",
    "# model = DecisionTreeClassifier()\n",
    "# model.fit(X,y)\n",
    "#Training data might take LOT of time depending on data so model persistence is important, i.e. save the model\n",
    "#joblib.dump(model,\"music-recommender.joblib\")\n",
    "\n",
    "#Load the saved model now\n",
    "model =joblib.load(\"music-recommender.joblib\")\n",
    "\n",
    "#Predict output(Music Genre)(y) for 21 year old man(X), Note that [21,1] is NOT in table\n",
    "predictions =model.predict([[21,1]])\n",
    "predictions"
   ]
  },
  {
   "cell_type": "code",
   "execution_count": 1,
   "id": "3cee5b39",
   "metadata": {},
   "outputs": [],
   "source": [
    "#Export model in visual format\n",
    "import pandas as pd\n",
    "from sklearn.tree import DecisionTreeClassifier #Algorithm for machine learning, most popular library\n",
    "from sklearn import tree#for visualization\n",
    "\n",
    "music_data = pd.read_csv(\"music.csv\")\n",
    "X = music_data.drop(columns=[\"genre\"])#our input or Data Set\n",
    "y = music_data[\"genre\"]#Output Data Set\n",
    "\n",
    "#Decision Tree algorithm for machine learning\n",
    "model = DecisionTreeClassifier()\n",
    "model.fit(X,y)\n",
    "\n",
    "\n",
    "tree.export_graphviz(model, out_file=\"music-recommendor.dot\",\n",
    "                     feature_names=[\"age\",\"gender\"],#feature_names is x y axis\n",
    "                    class_names=sorted(y.unique()),#dont repeat the data\n",
    "                     label = \"all\",\n",
    "                     rounded=True,\n",
    "                     filled=True\n",
    "                    )"
   ]
  }
 ],
 "metadata": {
  "kernelspec": {
   "display_name": "Python 3 (ipykernel)",
   "language": "python",
   "name": "python3"
  },
  "language_info": {
   "codemirror_mode": {
    "name": "ipython",
    "version": 3
   },
   "file_extension": ".py",
   "mimetype": "text/x-python",
   "name": "python",
   "nbconvert_exporter": "python",
   "pygments_lexer": "ipython3",
   "version": "3.9.2"
  }
 },
 "nbformat": 4,
 "nbformat_minor": 5
}
